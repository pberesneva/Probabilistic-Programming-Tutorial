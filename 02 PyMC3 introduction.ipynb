{
 "cells": [
  {
   "cell_type": "markdown",
   "metadata": {
    "slideshow": {
     "slide_type": "slide"
    }
   },
   "source": [
    "# PyMC3 introduction\n",
    "\n",
    "Install PyMC3 with anaconda:\n",
    "```\n",
    "conda install -c conda-forge pymc3=3.0\n",
    "```\n",
    "\n",
    "Load PyMC3 and generate a new model object. All variables in the new model are defined `with`in its context."
   ]
  },
  {
   "cell_type": "code",
   "execution_count": 7,
   "metadata": {
    "collapsed": true,
    "slideshow": {
     "slide_type": "slide"
    }
   },
   "outputs": [],
   "source": [
    "import pymc3 as pm\n",
    "\n",
    "with pm.Model() as test_model:\n",
    "    parameter = pm.Exponential(\"poisson_param\", 1)\n",
    "    data_generator = pm.Poisson(\"data_generator\", parameter)"
   ]
  },
  {
   "cell_type": "markdown",
   "metadata": {
    "slideshow": {
     "slide_type": "slide"
    }
   },
   "source": [
    "Subsequent alterations of a model are applied in the same context:"
   ]
  },
  {
   "cell_type": "code",
   "execution_count": 8,
   "metadata": {
    "collapsed": true,
    "slideshow": {
     "slide_type": "fragment"
    }
   },
   "outputs": [],
   "source": [
    "with test_model:\n",
    "    data_plus_one = data_generator + 1"
   ]
  },
  {
   "cell_type": "markdown",
   "metadata": {},
   "source": [
    "Variables defined in a model automatically get an initial test-value. It is used as starting point for sampling in case no other leverage point is defined."
   ]
  },
  {
   "cell_type": "code",
   "execution_count": 9,
   "metadata": {
    "collapsed": false
   },
   "outputs": [
    {
     "name": "stdout",
     "output_type": "stream",
     "text": [
      "parameter.tag.test_value = 0.693147177890573\n",
      "data_generator.tag.test_value = 0\n",
      "data_plus_one.tag.test_value = 1\n"
     ]
    }
   ],
   "source": [
    "print(\"parameter.tag.test_value =\", parameter.tag.test_value)\n",
    "print(\"data_generator.tag.test_value =\", data_generator.tag.test_value)\n",
    "print(\"data_plus_one.tag.test_value =\", data_plus_one.tag.test_value)"
   ]
  },
  {
   "cell_type": "markdown",
   "metadata": {},
   "source": [
    "An individual starting point can be defined when a variable is added to the model:"
   ]
  },
  {
   "cell_type": "code",
   "execution_count": 11,
   "metadata": {
    "collapsed": false
   },
   "outputs": [
    {
     "name": "stdout",
     "output_type": "stream",
     "text": [
      "\n",
      "parameter2.tag.test_value = 0.49999999904767284\n"
     ]
    }
   ],
   "source": [
    "with test_model:\n",
    "    parameter2 = pm.Exponential(\"poisson_param2\", 1, testval=0.5)\n",
    "\n",
    "print(\"\\nparameter2.tag.test_value =\", parameter2.tag.test_value)"
   ]
  },
  {
   "cell_type": "markdown",
   "metadata": {
    "slideshow": {
     "slide_type": "slide"
    }
   },
   "source": [
    "## Variables\n",
    "PyMC3 is concerned with two types of programming variables: stochastic and deterministic.\n",
    "\n",
    "* **stochastic variables** are variables that are not deterministic, i.e., even if you knew all the values of the variables' parameters and components, it would still be random. Included in this category are instances of classes Poisson, DiscreteUniform, and Exponential.\n",
    " * random distribution \n",
    " * work like functions returning a random observation from a defined distribution\n",
    " * initialized with name attribute \n",
    " * and additional parameters, depending on the type\n",
    " \n",
    "```python\n",
    "beta_1 = pm.Uniform(\"beta_1\", 0, 1)\n",
    "beta_2 = pm.Uniform(\"beta_2\", 0, 1)\n",
    "```\n",
    "  * vector of variables can be created using the ''shape'' argument\n",
    "```python\n",
    "betas = pm.Uniform(\"betas\", 0, 1, shape=N)\n",
    "```\n",
    "\n",
    "* **deterministic variables** are variables that are not random if the variables' parameters and components were known. This might be confusing at first: a quick mental check is if I knew all of variable foo's component variables, I could determine what foo's value is.\n",
    "  * derived from the ``Deterministic`` class\n",
    "  * parameterized by a value or function\n",
    "\n",
    "```python\n",
    "with test_model\n",
    "    var1 = pm.Deterministic('var1', 3)\n",
    "```\n",
    "but also\n",
    "```python\n",
    "var1 = beta_1 + beta_2\n",
    "```\n",
    "\n",
    "\n",
    "> Davidson-Pilon, C. Bayesian Methods for Hackers: Probabilistic Programming and Bayesian Inference. (Addison-Wesley Professional, 2015).\n"
   ]
  }
 ],
 "metadata": {
  "kernelspec": {
   "display_name": "Python 3",
   "language": "python",
   "name": "python3"
  },
  "language_info": {
   "codemirror_mode": {
    "name": "ipython",
    "version": 3
   },
   "file_extension": ".py",
   "mimetype": "text/x-python",
   "name": "python",
   "nbconvert_exporter": "python",
   "pygments_lexer": "ipython3",
   "version": "3.6.0"
  }
 },
 "nbformat": 4,
 "nbformat_minor": 2
}
